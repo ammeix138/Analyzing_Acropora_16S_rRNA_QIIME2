{
 "cells": [
  {
   "cell_type": "markdown",
   "id": "d7a96ba3",
   "metadata": {},
   "source": [
    "# Acropora Growth Anomaly DNA Analysis"
   ]
  },
  {
   "cell_type": "code",
   "execution_count": 1,
   "id": "97effdce",
   "metadata": {},
   "outputs": [
    {
     "name": "stdout",
     "output_type": "stream",
     "text": [
      "6367d8d1-b155-45ee-8c76-82042131cb61\n",
      "SampleData[SequencesWithQuality]\n",
      "<class 'q2_types.per_sample_sequences._format.SingleLanePerSampleSingleEndFastqDirFmt'>\n"
     ]
    }
   ],
   "source": [
    "#loading the artifact .qza file generated from the acropora manifest using the command line.\n",
    "from qiime2 import Artifact, Metadata\n",
    "\n",
    "single_end_demux_artifact = Artifact.load('single_end_demux.qza')\n",
    "\n",
    "print(single_end_demux_artifact.uuid)\n",
    "print(single_end_demux_artifact.type)\n",
    "print(single_end_demux_artifact.format)"
   ]
  },
  {
   "cell_type": "markdown",
   "id": "4c264f1e",
   "metadata": {},
   "source": [
    "# VSEARCH Method"
   ]
  },
  {
   "cell_type": "code",
   "execution_count": 2,
   "id": "11ceb272",
   "metadata": {},
   "outputs": [
    {
     "name": "stdout",
     "output_type": "stream",
     "text": [
      "Running external command line application. This may print messages to stdout and/or stderr.\n",
      "The command being run is below. This command cannot be manually re-run as it will depend on temporary files that no longer exist.\n",
      "\n",
      "Command: vsearch --derep_fulllength /tmp/q2-QIIME1DemuxDirFmt-mfpkvb_z/seqs.fna --output /tmp/q2-DNAFASTAFormat-5dlqr3op --relabel_sha1 --relabel_keep --uc /tmp/tmprnt7kbtm --xsize --minseqlength 1 --minuniquesize 1 --fasta_width 0\n",
      "\n"
     ]
    },
    {
     "name": "stderr",
     "output_type": "stream",
     "text": [
      "vsearch v2.22.1_linux_x86_64, 7.7GB RAM, 12 cores\n",
      "https://github.com/torognes/vsearch\n",
      "\n",
      "Dereplicating file /tmp/q2-QIIME1DemuxDirFmt-mfpkvb_z/seqs.fna 100%\n",
      "197612659 nt in 135322 seqs, min 152, max 20088, avg 1460\n",
      "Sorting 100%\n",
      "135322 unique sequences, avg cluster 1.0, median 1, max 1\n",
      "Writing FASTA output file 100%\n",
      "Writing uc file, first part 100%\n",
      "Writing uc file, second part 100%\n"
     ]
    },
    {
     "name": "stdout",
     "output_type": "stream",
     "text": [
      "<artifact: FeatureData[Sequence] uuid: 36d68dde-e763-4f12-a4ba-3262bdcfcffa>\n"
     ]
    }
   ],
   "source": [
    "from qiime2.plugins.vsearch.methods import dereplicate_sequences\n",
    "\n",
    "#The dereplicated_sequences are the rep_seqs\n",
    "dereplicated_table, dereplicated_sequences = dereplicate_sequences(sequences = single_end_demux_artifact)\n",
    "\n",
    "print(dereplicated_sequences)"
   ]
  },
  {
   "cell_type": "code",
   "execution_count": 3,
   "id": "768b49a3",
   "metadata": {
    "collapsed": true
   },
   "outputs": [
    {
     "name": "stdout",
     "output_type": "stream",
     "text": [
      "Running external command line application. This may print messages to stdout and/or stderr.\n",
      "The command being run is below. This command cannot be manually re-run as it will depend on temporary files that no longer exist.\n",
      "\n",
      "Command: vsearch --cluster_size /tmp/tmpmtwc4gzc --id 0.97 --centroids /tmp/q2-DNAFASTAFormat-uw9b97y_ --uc /tmp/tmpskiv2p6m --qmask none --xsize --threads 1 --minseqlength 1 --fasta_width 0\n",
      "\n"
     ]
    },
    {
     "name": "stderr",
     "output_type": "stream",
     "text": [
      "vsearch v2.22.1_linux_x86_64, 7.7GB RAM, 12 cores\n",
      "https://github.com/torognes/vsearch\n",
      "\n",
      "Reading file /tmp/tmpmtwc4gzc 100%\n",
      "197612659 nt in 135322 seqs, min 152, max 20088, avg 1460\n",
      "Sorting by abundance 100%\n",
      "Counting k-mers 100%\n",
      "Clustering 100%\n",
      "Sorting clusters 100%\n",
      "Writing clusters 100%\n",
      "Clusters: 135322 Size min 1, max 1, avg 1.0\n",
      "Singletons: 135322, 100.0% of seqs, 100.0% of clusters\n"
     ]
    }
   ],
   "source": [
    "from qiime2.plugins.vsearch.methods import cluster_features_de_novo\n",
    "\n",
    "clustered_table, clustered_sequences = cluster_features_de_novo(sequences = dereplicated_sequences, \n",
    "                                                               table = dereplicated_table, perc_identity = 0.97)"
   ]
  },
  {
   "cell_type": "code",
   "execution_count": 20,
   "id": "a319351b",
   "metadata": {},
   "outputs": [
    {
     "name": "stdout",
     "output_type": "stream",
     "text": [
      "<artifact: FeatureData[Sequence] uuid: c907c6f6-41db-4e9b-a5df-e74984e44896>\n"
     ]
    }
   ],
   "source": [
    "print(clustered_sequences)"
   ]
  },
  {
   "cell_type": "markdown",
   "id": "7ef7ef7e",
   "metadata": {},
   "source": [
    "# Taxonomic Analysis (Silva + Mitochondria)"
   ]
  },
  {
   "cell_type": "code",
   "execution_count": 4,
   "id": "ea81cfd7",
   "metadata": {},
   "outputs": [
    {
     "name": "stdout",
     "output_type": "stream",
     "text": [
      "<artifact: FeatureData[Taxonomy] uuid: 36515900-24bf-47bb-9b02-cde7d7a83345>\n"
     ]
    }
   ],
   "source": [
    "from urllib import request\n",
    "\n",
    "url = 'https://github.com/zaneveld/GCMP_Global_Disease/raw/master/analysis/organelle_removal/output/silva_metaxa2_reference_taxonomy.qza'\n",
    "file_name = 'silva_extended_classifier.qza'\n",
    "request.urlretrieve(url, file_name)\n",
    "\n",
    "silva_taxonomy = Artifact.load('silva_extended_classifier.qza')\n",
    "print(silva_taxonomy)"
   ]
  },
  {
   "cell_type": "code",
   "execution_count": 12,
   "id": "5a1cec9b",
   "metadata": {},
   "outputs": [],
   "source": [
    "from Bio import SeqIO\n",
    "from qiime2 import Artifact\n",
    "import os\n",
    "\n",
    "from os import listdir\n",
    "\n",
    "#Saving the work directory in a variable to make it easier to call.\n",
    "working_dir = os.path.abspath('/home/ammeix138')"
   ]
  },
  {
   "cell_type": "code",
   "execution_count": 13,
   "id": "37c03738",
   "metadata": {},
   "outputs": [
    {
     "name": "stdout",
     "output_type": "stream",
     "text": [
      "<artifact: FeatureData[Sequence] uuid: ac480fa7-6831-4d26-bd52-5640444c2223>\n"
     ]
    }
   ],
   "source": [
    "#Using variables to assign the actual path to the files being called. \n",
    "#Silva_fasta_path includes the reference sequences \n",
    "silva_fasta_path = working_dir + '/Silva_132_release/SILVA_132_QIIME_release/rep_set/rep_set_16S_only/99/silva_132_99_16S.fna'\n",
    "silva_plus_m2_taxonomy_path = working_dir\n",
    "m2_silva_otus_path = working_dir + '/m2+silva_otus.fasta'\n",
    "\n",
    "#Directly importing the data rather than loading the artifact as a .qza\n",
    "silva_m2_otus = Artifact.import_data('FeatureData[Sequence]', m2_silva_otus_path)\n",
    "\n",
    "print(silva_m2_otus)\n"
   ]
  },
  {
   "cell_type": "code",
   "execution_count": null,
   "id": "b2ec1dc0",
   "metadata": {
    "scrolled": false
   },
   "outputs": [
    {
     "name": "stdout",
     "output_type": "stream",
     "text": [
      "Running external command line application. This may print messages to stdout and/or stderr.\n",
      "The command being run is below. This command cannot be manually re-run as it will depend on temporary files that no longer exist.\n",
      "\n",
      "Command: vsearch --usearch_global /tmp/qiime2/ammeix138/data/c907c6f6-41db-4e9b-a5df-e74984e44896/data/dna-sequences.fasta --id 0.8 --query_cov 0.8 --strand both --maxaccepts 10 --maxrejects 0 --db /tmp/qiime2/ammeix138/data/ac480fa7-6831-4d26-bd52-5640444c2223/data/dna-sequences.fasta --threads 1 --output_no_hits --blast6out /tmp/q2-BLAST6Format-4wvwonza\n",
      "\n"
     ]
    },
    {
     "name": "stderr",
     "output_type": "stream",
     "text": [
      "vsearch v2.22.1_linux_x86_64, 7.7GB RAM, 12 cores\n",
      "https://github.com/torognes/vsearch\n",
      "\n",
      "Reading file /tmp/qiime2/ammeix138/data/ac480fa7-6831-4d26-bd52-5640444c2223/data/dna-sequences.fasta 100%\n",
      "524471249 nt in 373326 seqs, min 46, max 2961, avg 1405\n",
      "minseqlength 32: 1 sequence discarded.\n",
      "Masking 100%\n",
      "Counting k-mers 100%\n",
      "Creating k-mer index 100%\n",
      "Searching"
     ]
    }
   ],
   "source": [
    "#DO NOT RUN THIS BLOCK OF CODE AGAIN UNLESS ABSOLUTELY NECESSARY! IT TAKES UPWARDS OF 5 DAYS TO FINISH RUNNING\n",
    "#Trying to output a taxonomy artifact using the rep_seqs that were generated from the m2+silva_otus.fasta file\n",
    "from qiime2.plugins.feature_classifier.pipelines import classify_consensus_vsearch\n",
    "from urllib import request\n",
    "\n",
    "taxonomy_silva, = classify_consensus_vsearch(query = clustered_sequences, reference_reads = silva_m2_otus, \n",
    "                                             reference_taxonomy = silva_taxonomy)\n",
    "   "
   ]
  },
  {
   "cell_type": "code",
   "execution_count": null,
   "id": "68cbc314",
   "metadata": {},
   "outputs": [],
   "source": [
    "#Producing an output .qzv file to visuazlize the silva taxonomy summary.\n",
    "taxonomy_silva_classification = silva_taxonomy.classification\n",
    "\n",
    "import qiime2.plugins.metadata.actions as metadata_actions\n",
    "\n",
    "taxonomy_silva_as_md_md = taxonomy_silva_classification.view(Metadata)\n",
    "taxonomy_silva_viz, = metadata_actions.tabulate(input = taxonomy_silva_as_md_md, )\n",
    "\n",
    "taxonomy_silva_viz.save('taxonomy_silva_summary.qzv')"
   ]
  },
  {
   "cell_type": "code",
   "execution_count": null,
   "id": "3d6e1aef",
   "metadata": {},
   "outputs": [],
   "source": [
    "from qiime2.plugins.feature_table.visualizers import summarize\n",
    "\n",
    "summarize_table, = summarize(table = clustered_table)\n",
    "summarize_table.save('summary_taxonomy_table.qzv')"
   ]
  },
  {
   "cell_type": "code",
   "execution_count": null,
   "id": "b2133a59",
   "metadata": {},
   "outputs": [],
   "source": [
    "#We generated a sample_metadata file using the original manifest file.\n",
    "from qiime2 import Metadata\n",
    "\n",
    "sample_metadata_md = Metadata.load('fastq_manifest_qiime2.txt')"
   ]
  },
  {
   "cell_type": "markdown",
   "id": "21b93ef1",
   "metadata": {},
   "source": [
    "# Bar Plot Visualization Using Silva"
   ]
  },
  {
   "cell_type": "code",
   "execution_count": null,
   "id": "547027fa",
   "metadata": {},
   "outputs": [],
   "source": [
    "import qiime2.plugins.taxa.actions as taxa_actions\n",
    "\n",
    "taxa_bar_plots_silva_viz, = taxa_actions.barplot(table = clustered_table, taxonomy = taxonomy_silva_classification,\n",
    "                                          metadata = sample_metadata_md)\n",
    "taxa_bar_plots_silva_viz.save('taxa_bar_silva_plots.qzv')"
   ]
  },
  {
   "cell_type": "markdown",
   "id": "12b9f896",
   "metadata": {},
   "source": [
    "# Taxonomic Analysis"
   ]
  },
  {
   "cell_type": "code",
   "execution_count": 15,
   "id": "973cddb9",
   "metadata": {},
   "outputs": [],
   "source": [
    "#Generating the classifier to create the taxonomy artifact\n",
    "from urllib import request\n",
    "\n",
    "url = 'https://docs.qiime2.org/2021.11/data/tutorials/moving-pictures-usage/gg-13-8-99-515-806-nb-classifier.qza'\n",
    "fn = 'gg-13-8-99-515-806-nb-classifier.qza'\n",
    "request.urlretrieve(url, fn)\n",
    "gg_13_8_99_515_806_nb_classifier = Artifact.load(fn)\n",
    "\n",
    "#Trying to output a taxonomy artifact using the rep_seqs\n",
    "import qiime2.plugins.feature_classifier.actions as feature_classifier_actions \n",
    "\n",
    "taxonomy = feature_classifier_actions.classify_sklearn(classifier = gg_13_8_99_515_806_nb_classifier,\n",
    "                                                      reads = dereplicated_sequences)"
   ]
  },
  {
   "cell_type": "code",
   "execution_count": 26,
   "id": "da815071",
   "metadata": {
    "scrolled": true
   },
   "outputs": [],
   "source": [
    "dir(taxonomy)\n",
    "taxonomy_classification = taxonomy.classification"
   ]
  },
  {
   "cell_type": "code",
   "execution_count": 35,
   "id": "6743c2a8",
   "metadata": {},
   "outputs": [
    {
     "data": {
      "text/plain": [
       "'taxonomy_summary.qzv'"
      ]
     },
     "execution_count": 35,
     "metadata": {},
     "output_type": "execute_result"
    }
   ],
   "source": [
    "import qiime2.plugins.metadata.actions as metadata_actions\n",
    "\n",
    "taxonomy_as_md_md = taxonomy_classification.view(Metadata)\n",
    "taxonomy_viz, = metadata_actions.tabulate(\n",
    "    input=taxonomy_as_md_md,\n",
    ")\n",
    "\n",
    "taxonomy_viz.save('taxonomy_summary.qzv')"
   ]
  },
  {
   "cell_type": "code",
   "execution_count": 18,
   "id": "bb0f93e6",
   "metadata": {},
   "outputs": [
    {
     "data": {
      "text/plain": [
       "'summary_taxonomy_table.qzv'"
      ]
     },
     "execution_count": 18,
     "metadata": {},
     "output_type": "execute_result"
    }
   ],
   "source": [
    "from qiime2.plugins.feature_table.visualizers import summarize\n",
    "\n",
    "summarize_table, = summarize(table = clustered_table)\n",
    "summarize_table.save('summary_taxonomy_table.qzv')"
   ]
  },
  {
   "cell_type": "code",
   "execution_count": 21,
   "id": "ecdce375",
   "metadata": {},
   "outputs": [],
   "source": [
    "#We generated a sample_metadata file using the original manifest file.\n",
    "from qiime2 import Metadata\n",
    "\n",
    "sample_metadata_md = Metadata.load('fastq_manifest_qiime2.txt')"
   ]
  },
  {
   "cell_type": "markdown",
   "id": "363b92cc",
   "metadata": {},
   "source": [
    "# Producing taxa bar plot for visualization"
   ]
  },
  {
   "cell_type": "code",
   "execution_count": 142,
   "id": "d04fd799",
   "metadata": {},
   "outputs": [
    {
     "data": {
      "text/plain": [
       "'taxa_bar_plots.qzv'"
      ]
     },
     "execution_count": 142,
     "metadata": {},
     "output_type": "execute_result"
    }
   ],
   "source": [
    "#These commands produce the bar plot visualization that displays the discrepencies of existing microbes\n",
    "#between healthy and diseased from Acropora cytherea tissue\n",
    "\n",
    "import qiime2.plugins.taxa.actions as taxa_actions\n",
    "\n",
    "taxa_bar_plots_viz, = taxa_actions.barplot(table = clustered_table, taxonomy = taxonomy_classification,\n",
    "                                          metadata = sample_metadata_md)\n",
    "taxa_bar_plots_viz.save('taxa_bar_plots.qzv')"
   ]
  },
  {
   "cell_type": "markdown",
   "id": "ea7172fd",
   "metadata": {},
   "source": [
    "# Filtering Sequences Based on Taxa for Mitochondrial DNA"
   ]
  },
  {
   "cell_type": "code",
   "execution_count": 144,
   "id": "74588896",
   "metadata": {},
   "outputs": [
    {
     "name": "stdout",
     "output_type": "stream",
     "text": [
      "<artifact: FeatureData[Sequence] uuid: 24798561-13cc-40df-8ec0-75c4ccde122d>\n"
     ]
    },
    {
     "name": "stderr",
     "output_type": "stream",
     "text": [
      "/home/ammeix138/anaconda3/envs/qiime2-2022.11/lib/python3.8/site-packages/q2_taxa/_method.py:121: FutureWarning: Passing a set as an indexer is deprecated and will raise in a future version. Use a list instead.\n",
      "  return sequences[ids_to_keep]\n",
      "/home/ammeix138/anaconda3/envs/qiime2-2022.11/lib/python3.8/site-packages/q2_types/feature_data/_transformer.py:258: FutureWarning: iteritems is deprecated and will be removed in a future version. Use .items instead.\n",
      "  for id_, seq in data.iteritems():\n"
     ]
    }
   ],
   "source": [
    "from qiime2.plugins.taxa.methods import filter_seqs\n",
    "\n",
    "filtered_sequences, = filter_seqs(sequences = dereplicated_sequences, taxonomy = taxonomy_classification,\n",
    "                                  include = 'mitochondria')\n",
    "print(filtered_sequences)\n"
   ]
  },
  {
   "cell_type": "code",
   "execution_count": null,
   "id": "d57a705e",
   "metadata": {},
   "outputs": [],
   "source": [
    "from qiime2.plugins.taxa.methods import filter_seqs\n",
    "\n",
    "unassigned_sequences, = filter_seqs(sequences = dereplicated_sequences, taxonomy = taxonomy_classification,\n",
    "                                  include = 'Unassigned')\n",
    "print(unassigned_sequences)"
   ]
  },
  {
   "cell_type": "markdown",
   "id": "b22daa6a",
   "metadata": {},
   "source": [
    "# Filter Table: Taxonomy-based feature table filter"
   ]
  },
  {
   "cell_type": "code",
   "execution_count": 145,
   "id": "17dd5159",
   "metadata": {},
   "outputs": [
    {
     "name": "stdout",
     "output_type": "stream",
     "text": [
      "<artifact: FeatureTable[Frequency] uuid: 70f21fec-1815-46ec-9d01-a683d27fef09>\n"
     ]
    }
   ],
   "source": [
    "from qiime2.plugins.taxa.methods import filter_table\n",
    "\n",
    "filter_table_acropora, = filter_table(table = clustered_table, taxonomy = taxonomy_classification, include = 'mitochondria')\n",
    "\n",
    "print(filter_table_acropora)"
   ]
  },
  {
   "cell_type": "markdown",
   "id": "bed3d5f0",
   "metadata": {},
   "source": [
    "# Visualizing The Filtered Sequences and Filter Table"
   ]
  },
  {
   "cell_type": "code",
   "execution_count": 146,
   "id": "ac8113b1",
   "metadata": {},
   "outputs": [
    {
     "data": {
      "text/plain": [
       "'filtered_bar_plot.qzv'"
      ]
     },
     "execution_count": 146,
     "metadata": {},
     "output_type": "execute_result"
    }
   ],
   "source": [
    "from qiime2.plugins.taxa.visualizers import barplot\n",
    "\n",
    "filtered_barplot, = barplot(table = filter_table_acropora, taxonomy = taxonomy_classification)\n",
    "filtered_barplot.save('filtered_bar_plot.qzv')"
   ]
  },
  {
   "cell_type": "markdown",
   "id": "c51df3e7",
   "metadata": {},
   "source": [
    "# Building Phylogenetic Tree"
   ]
  },
  {
   "cell_type": "code",
   "execution_count": 150,
   "id": "6696a81f",
   "metadata": {},
   "outputs": [
    {
     "name": "stdout",
     "output_type": "stream",
     "text": [
      "Running external command line application. This may print messages to stdout and/or stderr.\n",
      "The command being run is below. This command cannot be manually re-run as it will depend on temporary files that no longer exist.\n",
      "\n",
      "Command: mafft --preservecase --inputorder --thread 1 /tmp/qiime2/ammeix138/data/24798561-13cc-40df-8ec0-75c4ccde122d/data/dna-sequences.fasta\n",
      "\n"
     ]
    },
    {
     "name": "stderr",
     "output_type": "stream",
     "text": [
      "inputfile = orig\n",
      "3 x 20088 - 1667 d\n",
      "nthread = 1\n",
      "nthreadpair = 1\n",
      "nthreadtb = 1\n",
      "ppenalty_ex = 0\n",
      "stacksize: 8192 kb\n",
      "generating a scoring matrix for nucleotide (dist=200) ... done\n",
      "Gap Penalty = -1.53, +0.00, +0.00\n",
      "\n",
      "\n",
      "\n",
      "Making a distance matrix ..\n",
      "    1 / 3 (thread    0)\n",
      "done.\n",
      "\n",
      "Constructing a UPGMA tree (efffree=0) ... \n",
      "    0 / 3\n",
      "done.\n",
      "\n",
      "Progressive alignment 1/2... \n",
      "STEP     2 / 2 (thread    0)\n",
      "done.\n",
      "\n",
      "Making a distance matrix from msa.. \n",
      "    0 / 3 (thread    0)\n",
      "done.\n",
      "\n",
      "Constructing a UPGMA tree (efffree=1) ... \n",
      "    0 / 3\n",
      "done.\n",
      "\n",
      "Progressive alignment 2/2... \n",
      "STEP     2 / 2 (thread    0)\n",
      "done.\n",
      "\n",
      "disttbfast (nuc) Version 7.508\n",
      "alg=A, model=DNA200 (2), 1.53 (4.59), -0.00 (-0.00), noshift, amax=0.0\n",
      "1 thread(s)\n",
      "\n",
      "\n",
      "Strategy:\n",
      " FFT-NS-2 (Fast but rough)\n",
      " Progressive method (guide trees were built 2 times.)\n",
      "\n",
      "If unsure which option to use, try 'mafft --auto input > output'.\n",
      "For more information, see 'mafft --help', 'mafft --man' and the mafft page.\n",
      "\n",
      "The default gap scoring scheme has been changed in version 7.110 (2013 Oct).\n",
      "It tends to insert more gaps into gap-rich regions than previous versions.\n",
      "To disable this change, add the --leavegappyregion option.\n",
      "\n"
     ]
    },
    {
     "name": "stdout",
     "output_type": "stream",
     "text": [
      "Running external command line application. This may print messages to stdout and/or stderr.\n",
      "The command being run is below. This command cannot be manually re-run as it will depend on temporary files that no longer exist.\n",
      "\n",
      "Command: FastTree -quote -nt /tmp/qiime2/ammeix138/data/13fc25f2-1f87-4cf6-96da-09a8ec82b3a3/data/aligned-dna-sequences.fasta\n",
      "\n"
     ]
    },
    {
     "name": "stderr",
     "output_type": "stream",
     "text": [
      "FastTree Version 2.1.11 Double precision (No SSE3)\n",
      "Alignment: /tmp/qiime2/ammeix138/data/13fc25f2-1f87-4cf6-96da-09a8ec82b3a3/data/aligned-dna-sequences.fasta\n",
      "Nucleotide distances: Jukes-Cantor Joins: balanced Support: SH-like 1000\n",
      "Search: Normal +NNI +SPR (2 rounds range 10) +ML-NNI opt-each=1\n",
      "TopHits: 1.00*sqrtN close=default refresh=0.80\n",
      "ML Model: Jukes-Cantor, CAT approximation with 20 rate categories\n",
      "Initial topology in 0.00 seconds\n",
      "Refining topology: 6 rounds ME-NNIs, 2 rounds ME-SPRs, 3 rounds ML-NNIs\n",
      "Total branch-length 0.644 after 0.00 sec\n",
      "ML-NNI round 1: LogLk = -30616.845 NNIs 0 max delta 0.00 Time 0.01\n",
      "Switched to using 20 rate categories (CAT approximation)\n",
      "Rate categories were divided by 0.633 so that average rate = 1.0\n",
      "CAT-based log-likelihoods may not be comparable across runs\n",
      "Use -gamma for approximate but comparable Gamma(20) log-likelihoods\n",
      "ML-NNI round 2: LogLk = -30469.127 NNIs 0 max delta 0.00 Time 0.02\n",
      "Turning off heuristics for final round of ML NNIs (converged)\n",
      "ML-NNI round 3: LogLk = -30469.127 NNIs 0 max delta 0.00 Time 0.02 (final)\n",
      "Optimize all lengths: LogLk = -30464.353 Time 0.03\n",
      "Total time: 0.12 seconds Unique: 3/3 Bad splits: 0/0\n"
     ]
    }
   ],
   "source": [
    "import qiime2.plugins.phylogeny.actions as phylogeny_actions\n",
    "\n",
    "action_results = phylogeny_actions.align_to_tree_mafft_fasttree(\n",
    "    sequences = filtered_sequences)\n",
    "\n",
    "aligned_reps_seqs = action_results.alignment\n",
    "masked_aligned_rep_seqs = action_results.masked_alignment\n",
    "unrooted_tree = action_results.tree\n",
    "rooted_tree = action_results.rooted_tree"
   ]
  },
  {
   "cell_type": "code",
   "execution_count": 156,
   "id": "5cb557f7",
   "metadata": {},
   "outputs": [
    {
     "data": {
      "text/plain": [
       "'phylogeny_acropora_unrooted.qza'"
      ]
     },
     "execution_count": 156,
     "metadata": {},
     "output_type": "execute_result"
    }
   ],
   "source": [
    "rooted_tree.save('phylogeny_acropora')\n",
    "unrooted_tree.save('phylogeny_acropora_unrooted')"
   ]
  },
  {
   "cell_type": "code",
   "execution_count": null,
   "id": "3223e41f",
   "metadata": {},
   "outputs": [],
   "source": []
  }
 ],
 "metadata": {
  "kernelspec": {
   "display_name": "Python 3 (ipykernel)",
   "language": "python",
   "name": "python3"
  },
  "language_info": {
   "codemirror_mode": {
    "name": "ipython",
    "version": 3
   },
   "file_extension": ".py",
   "mimetype": "text/x-python",
   "name": "python",
   "nbconvert_exporter": "python",
   "pygments_lexer": "ipython3",
   "version": "3.8.15"
  }
 },
 "nbformat": 4,
 "nbformat_minor": 5
}
